{
  "nbformat": 4,
  "nbformat_minor": 0,
  "metadata": {
    "colab": {
      "provenance": []
    },
    "kernelspec": {
      "name": "python3",
      "display_name": "Python 3"
    },
    "language_info": {
      "name": "python"
    }
  },
  "cells": [
    {
      "cell_type": "markdown",
      "source": [
        "# 1. What is FastAPI?\n",
        "**FastAPI** is a Python framework used for creating web APIs. It helps in easily building REST APIs with high performance and automatic validation. FastAPI is used to build backend services, such as processing data for a website or sending/receiving data for a mobile app.\n",
        "\n",
        "**Why use it?**\n",
        "FastAPI is known for its speed and simplicity. When you need to create API endpoints where you have to fetch, process, or update data, FastAPI becomes very helpful.\n",
        "\n",
        "# 2. What are Microservices?\n",
        "**Microservices** is an architecture where you break your application into small, independent parts (services). Each service performs its task separately and interacts with other services to complete its function.\n",
        "\n",
        "**Why use them?**\n",
        "Using microservices provides:\n",
        "\n",
        "**Scalability:** You can scale each service independently.\n",
        "Easier development and deployment: Since services are smaller, it’s easier to work on them and deploy them separately.\n",
        "**Fault isolation:** If one service fails, the other services are not impacted.\n",
        "**Example:** In an e-commerce website, one microservice could handle products, another for payments, and another for user authentication.\n",
        "\n",
        "#3. What is Poetry?\n",
        "**Poetry** is a tool used to manage Python projects, such as installing dependencies, creating virtual environments, and handling package versioning.\n",
        "\n",
        "**Why use it?**\n",
        "When you are working on large projects, Poetry helps you with:\n",
        "\n",
        "**Managing dependencies:** It ensures the correct libraries and their versions are used.\n",
        "\n",
        "**virtual environments:** Poetry simplifies creating isolated environments for your project.\n",
        "\n",
        "**Distributing packages:** If you create your own library, Poetry helps package and distribute it.\n",
        "Poetry basically organizes your project and ensures that the dependencies in your project are at the correct versions.\n",
        "\n",
        "\n",
        "\n",
        "\n",
        "\n",
        "\n",
        "\n"
      ],
      "metadata": {
        "id": "5fPIPBJ0_ulj"
      }
    },
    {
      "cell_type": "markdown",
      "source": [
        "# **Connection Between FastAPI + Microservices + Poetry:**\n",
        "**Microservices Architecture:**\n",
        "\n",
        "Your application will be divided into multiple smaller services. Each microservice will handle a specific function like authentication, product management, orders, etc.\n",
        "\n",
        "\n",
        "**FastAPI for API Creation:**\n",
        "\n",
        "For each microservice, you will use FastAPI to create API endpoints. These APIs will be independent, so you can run and deploy each microservice separately.\n",
        "\n",
        "\n",
        "**Poetry for Managing Microservices:**\n",
        "\n",
        "As you develop each microservice, Poetry will manage the dependencies for each one. If you are building multiple microservices, Poetry ensures that each service has the required libraries (FastAPI, Uvicorn, etc.) installed properly.\n",
        "\n"
      ],
      "metadata": {
        "id": "0yTNRYvsCYaT"
      }
    }
  ]
}